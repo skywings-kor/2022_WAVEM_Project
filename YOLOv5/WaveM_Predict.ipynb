{
 "cells": [
  {
   "cell_type": "code",
   "execution_count": 1,
   "id": "c00cf165-c335-4fbb-a147-06ce48680b71",
   "metadata": {},
   "outputs": [
    {
     "name": "stdout",
     "output_type": "stream",
     "text": [
      "/data/yolov5\n",
      "\u001b[34m\u001b[1mdetect: \u001b[0mweights=['best.pt'], source=test1.jpg, data=data/coco128.yaml, imgsz=[640, 640], conf_thres=0.5, iou_thres=0.45, max_det=1000, device=, view_img=False, save_txt=False, save_conf=False, save_crop=False, nosave=False, classes=None, agnostic_nms=False, augment=False, visualize=False, update=False, project=runs/detect, name=exp, exist_ok=False, line_thickness=3, hide_labels=False, hide_conf=False, half=False, dnn=False, vid_stride=1\n",
      "fatal: detected dubious ownership in repository at '/data/yolov5'\n",
      "To add an exception for this directory, call:\n",
      "\n",
      "\tgit config --global --add safe.directory /data/yolov5\n",
      "YOLOv5 🚀 2022-9-30 Python-3.8.10 torch-1.12.1+cu102 CUDA:0 (NVIDIA GeForce RTX 2080 Ti, 11020MiB)\n",
      "\n",
      "Fusing layers... \n",
      "YOLOv5l summary: 267 layers, 46210593 parameters, 0 gradients, 108.0 GFLOPs\n",
      "image 1/1 /data/yolov5/test1.jpg: 480x640 1 1, 15.1ms\n",
      "Speed: 0.3ms pre-process, 15.1ms inference, 0.9ms NMS per image at shape (1, 3, 640, 640)\n",
      "Results saved to \u001b[1mruns/detect/exp12\u001b[0m\n"
     ]
    }
   ],
   "source": [
    "%cd /data/yolov5\n",
    "!python detect.py --weights best.pt --img 640 --conf 0.5 --source test1.jpg"
   ]
  },
  {
   "cell_type": "code",
   "execution_count": 9,
   "id": "f20546cc-8f4b-4d25-be14-5dbfb966cf67",
   "metadata": {},
   "outputs": [
    {
     "name": "stdout",
     "output_type": "stream",
     "text": [
      "/data/yolov5\n",
      "\u001b[34m\u001b[1mdetect: \u001b[0mweights=['best.pt'], source=test2.jpg, data=data/coco128.yaml, imgsz=[640, 640], conf_thres=0.5, iou_thres=0.45, max_det=1000, device=, view_img=False, save_txt=False, save_conf=False, save_crop=False, nosave=False, classes=None, agnostic_nms=False, augment=False, visualize=False, update=False, project=runs/detect, name=exp, exist_ok=False, line_thickness=3, hide_labels=False, hide_conf=False, half=False, dnn=False, vid_stride=1\n",
      "fatal: detected dubious ownership in repository at '/data/yolov5'\n",
      "To add an exception for this directory, call:\n",
      "\n",
      "\tgit config --global --add safe.directory /data/yolov5\n",
      "YOLOv5 🚀 2022-9-30 Python-3.8.10 torch-1.12.1+cu102 CUDA:0 (NVIDIA GeForce RTX 2080 Ti, 11020MiB)\n",
      "\n",
      "Fusing layers... \n",
      "YOLOv5l summary: 267 layers, 46210593 parameters, 0 gradients, 108.0 GFLOPs\n",
      "image 1/1 /data/yolov5/test2.jpg: 576x640 (no detections), 17.4ms\n",
      "Speed: 0.4ms pre-process, 17.4ms inference, 0.5ms NMS per image at shape (1, 3, 640, 640)\n",
      "Results saved to \u001b[1mruns/detect/exp20\u001b[0m\n"
     ]
    }
   ],
   "source": [
    "%cd /data/yolov5\n",
    "!python detect.py --weights best.pt --img 640 --conf 0.5 --source test2.jpg"
   ]
  },
  {
   "cell_type": "code",
   "execution_count": 3,
   "id": "226cf3ce-e114-49f1-bd70-6e80bd56e452",
   "metadata": {},
   "outputs": [
    {
     "name": "stdout",
     "output_type": "stream",
     "text": [
      "/data/yolov5\n",
      "\u001b[34m\u001b[1mdetect: \u001b[0mweights=['best.pt'], source=test3.jpg, data=data/coco128.yaml, imgsz=[640, 640], conf_thres=0.5, iou_thres=0.45, max_det=1000, device=, view_img=False, save_txt=False, save_conf=False, save_crop=False, nosave=False, classes=None, agnostic_nms=False, augment=False, visualize=False, update=False, project=runs/detect, name=exp, exist_ok=False, line_thickness=3, hide_labels=False, hide_conf=False, half=False, dnn=False, vid_stride=1\n",
      "fatal: detected dubious ownership in repository at '/data/yolov5'\n",
      "To add an exception for this directory, call:\n",
      "\n",
      "\tgit config --global --add safe.directory /data/yolov5\n",
      "YOLOv5 🚀 2022-9-30 Python-3.8.10 torch-1.12.1+cu102 CUDA:0 (NVIDIA GeForce RTX 2080 Ti, 11020MiB)\n",
      "\n",
      "Fusing layers... \n",
      "YOLOv5l summary: 267 layers, 46210593 parameters, 0 gradients, 108.0 GFLOPs\n",
      "image 1/1 /data/yolov5/test3.jpg: 576x640 1 3, 17.4ms\n",
      "Speed: 0.3ms pre-process, 17.4ms inference, 0.9ms NMS per image at shape (1, 3, 640, 640)\n",
      "Results saved to \u001b[1mruns/detect/exp14\u001b[0m\n"
     ]
    }
   ],
   "source": [
    "%cd /data/yolov5\n",
    "!python detect.py --weights best.pt --img 640 --conf 0.5 --source test3.jpg"
   ]
  },
  {
   "cell_type": "code",
   "execution_count": 4,
   "id": "44c795cc-4160-4d8f-90b1-f8c44def3330",
   "metadata": {},
   "outputs": [
    {
     "name": "stdout",
     "output_type": "stream",
     "text": [
      "/data/yolov5\n",
      "\u001b[34m\u001b[1mdetect: \u001b[0mweights=['best.pt'], source=test4.jpg, data=data/coco128.yaml, imgsz=[640, 640], conf_thres=0.5, iou_thres=0.45, max_det=1000, device=, view_img=False, save_txt=False, save_conf=False, save_crop=False, nosave=False, classes=None, agnostic_nms=False, augment=False, visualize=False, update=False, project=runs/detect, name=exp, exist_ok=False, line_thickness=3, hide_labels=False, hide_conf=False, half=False, dnn=False, vid_stride=1\n",
      "fatal: detected dubious ownership in repository at '/data/yolov5'\n",
      "To add an exception for this directory, call:\n",
      "\n",
      "\tgit config --global --add safe.directory /data/yolov5\n",
      "YOLOv5 🚀 2022-9-30 Python-3.8.10 torch-1.12.1+cu102 CUDA:0 (NVIDIA GeForce RTX 2080 Ti, 11020MiB)\n",
      "\n",
      "Fusing layers... \n",
      "YOLOv5l summary: 267 layers, 46210593 parameters, 0 gradients, 108.0 GFLOPs\n",
      "image 1/1 /data/yolov5/test4.jpg: 448x640 1 4, 14.8ms\n",
      "Speed: 0.3ms pre-process, 14.8ms inference, 0.9ms NMS per image at shape (1, 3, 640, 640)\n",
      "Results saved to \u001b[1mruns/detect/exp15\u001b[0m\n"
     ]
    }
   ],
   "source": [
    "%cd /data/yolov5\n",
    "!python detect.py --weights best.pt --img 640 --conf 0.5 --source test4.jpg"
   ]
  },
  {
   "cell_type": "code",
   "execution_count": 5,
   "id": "b917f553-7add-4d74-b02e-dac5ca6b3e7b",
   "metadata": {},
   "outputs": [
    {
     "name": "stdout",
     "output_type": "stream",
     "text": [
      "/data/yolov5\n",
      "\u001b[34m\u001b[1mdetect: \u001b[0mweights=['best.pt'], source=testopen.jpg, data=data/coco128.yaml, imgsz=[640, 640], conf_thres=0.5, iou_thres=0.45, max_det=1000, device=, view_img=False, save_txt=False, save_conf=False, save_crop=False, nosave=False, classes=None, agnostic_nms=False, augment=False, visualize=False, update=False, project=runs/detect, name=exp, exist_ok=False, line_thickness=3, hide_labels=False, hide_conf=False, half=False, dnn=False, vid_stride=1\n",
      "fatal: detected dubious ownership in repository at '/data/yolov5'\n",
      "To add an exception for this directory, call:\n",
      "\n",
      "\tgit config --global --add safe.directory /data/yolov5\n",
      "YOLOv5 🚀 2022-9-30 Python-3.8.10 torch-1.12.1+cu102 CUDA:0 (NVIDIA GeForce RTX 2080 Ti, 11020MiB)\n",
      "\n",
      "Fusing layers... \n",
      "YOLOv5l summary: 267 layers, 46210593 parameters, 0 gradients, 108.0 GFLOPs\n",
      "image 1/1 /data/yolov5/testopen.jpg: 512x640 1 open, 15.3ms\n",
      "Speed: 0.3ms pre-process, 15.3ms inference, 0.8ms NMS per image at shape (1, 3, 640, 640)\n",
      "Results saved to \u001b[1mruns/detect/exp16\u001b[0m\n"
     ]
    }
   ],
   "source": [
    "%cd /data/yolov5\n",
    "!python detect.py --weights best.pt --img 640 --conf 0.5 --source testopen.jpg"
   ]
  },
  {
   "cell_type": "code",
   "execution_count": 6,
   "id": "ab634fed-b074-42b5-ae63-7ff872db2ce6",
   "metadata": {},
   "outputs": [
    {
     "name": "stdout",
     "output_type": "stream",
     "text": [
      "/data/yolov5\n",
      "\u001b[34m\u001b[1mdetect: \u001b[0mweights=['best.pt'], source=testclose.jpg, data=data/coco128.yaml, imgsz=[640, 640], conf_thres=0.5, iou_thres=0.45, max_det=1000, device=, view_img=False, save_txt=False, save_conf=False, save_crop=False, nosave=False, classes=None, agnostic_nms=False, augment=False, visualize=False, update=False, project=runs/detect, name=exp, exist_ok=False, line_thickness=3, hide_labels=False, hide_conf=False, half=False, dnn=False, vid_stride=1\n",
      "fatal: detected dubious ownership in repository at '/data/yolov5'\n",
      "To add an exception for this directory, call:\n",
      "\n",
      "\tgit config --global --add safe.directory /data/yolov5\n",
      "YOLOv5 🚀 2022-9-30 Python-3.8.10 torch-1.12.1+cu102 CUDA:0 (NVIDIA GeForce RTX 2080 Ti, 11020MiB)\n",
      "\n",
      "Fusing layers... \n",
      "YOLOv5l summary: 267 layers, 46210593 parameters, 0 gradients, 108.0 GFLOPs\n",
      "image 1/1 /data/yolov5/testclose.jpg: 576x640 1 close, 17.4ms\n",
      "Speed: 0.3ms pre-process, 17.4ms inference, 0.9ms NMS per image at shape (1, 3, 640, 640)\n",
      "Results saved to \u001b[1mruns/detect/exp17\u001b[0m\n"
     ]
    }
   ],
   "source": [
    "%cd /data/yolov5\n",
    "!python detect.py --weights best.pt --img 640 --conf 0.5 --source testclose.jpg"
   ]
  },
  {
   "cell_type": "code",
   "execution_count": 7,
   "id": "3b3892d3-83e6-409e-84ca-19cd06c1fd9f",
   "metadata": {},
   "outputs": [
    {
     "name": "stdout",
     "output_type": "stream",
     "text": [
      "/data/yolov5\n",
      "\u001b[34m\u001b[1mdetect: \u001b[0mweights=['best.pt'], source=testalarm.jpg, data=data/coco128.yaml, imgsz=[640, 640], conf_thres=0.5, iou_thres=0.45, max_det=1000, device=, view_img=False, save_txt=False, save_conf=False, save_crop=False, nosave=False, classes=None, agnostic_nms=False, augment=False, visualize=False, update=False, project=runs/detect, name=exp, exist_ok=False, line_thickness=3, hide_labels=False, hide_conf=False, half=False, dnn=False, vid_stride=1\n",
      "fatal: detected dubious ownership in repository at '/data/yolov5'\n",
      "To add an exception for this directory, call:\n",
      "\n",
      "\tgit config --global --add safe.directory /data/yolov5\n",
      "YOLOv5 🚀 2022-9-30 Python-3.8.10 torch-1.12.1+cu102 CUDA:0 (NVIDIA GeForce RTX 2080 Ti, 11020MiB)\n",
      "\n",
      "Fusing layers... \n",
      "YOLOv5l summary: 267 layers, 46210593 parameters, 0 gradients, 108.0 GFLOPs\n",
      "image 1/1 /data/yolov5/testalarm.jpg: 512x640 1 alarm, 15.3ms\n",
      "Speed: 0.3ms pre-process, 15.3ms inference, 0.9ms NMS per image at shape (1, 3, 640, 640)\n",
      "Results saved to \u001b[1mruns/detect/exp18\u001b[0m\n"
     ]
    }
   ],
   "source": [
    "%cd /data/yolov5\n",
    "!python detect.py --weights best.pt --img 640 --conf 0.5 --source testalarm.jpg"
   ]
  },
  {
   "cell_type": "code",
   "execution_count": null,
   "id": "ed532816-2916-403a-b709-27cc0396426e",
   "metadata": {},
   "outputs": [],
   "source": [
    "%cd /data/yolov5/\n",
    "!python detect.py --weights best.pt --img 640 --conf 0.5 --source testalarm.jpg"
   ]
  }
 ],
 "metadata": {
  "kernelspec": {
   "display_name": "Python 3 (ipykernel)",
   "language": "python",
   "name": "python3"
  },
  "language_info": {
   "codemirror_mode": {
    "name": "ipython",
    "version": 3
   },
   "file_extension": ".py",
   "mimetype": "text/x-python",
   "name": "python",
   "nbconvert_exporter": "python",
   "pygments_lexer": "ipython3",
   "version": "3.8.10"
  }
 },
 "nbformat": 4,
 "nbformat_minor": 5
}
